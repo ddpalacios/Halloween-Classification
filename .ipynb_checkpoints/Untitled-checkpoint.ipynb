{
 "cells": [
  {
   "cell_type": "code",
   "execution_count": 1,
   "metadata": {},
   "outputs": [
    {
     "name": "stderr",
     "output_type": "stream",
     "text": [
      "Using TensorFlow backend.\n"
     ]
    }
   ],
   "source": [
    "import keras\n",
    "import tensorflow as tf\n",
    "import numpy as np"
   ]
  },
  {
   "cell_type": "code",
   "execution_count": 2,
   "metadata": {},
   "outputs": [],
   "source": [
    "class load_file:\n",
    "    def __init__(self, file):\n",
    "        self.file = file\n",
    "\n",
    "    def get_data(self):\n",
    "        hal = np.load(self.file)\n",
    "        X_train, y_train, X_test, y_test,X_val, y_val = [hal[f] for f in hal.files]\n",
    "        return X_train, y_train, X_test, y_test,X_val, y_val \n",
    "    \n",
    "df = load_file('halloween_classes.npz')\n",
    "X_train, y_train, X_test, y_test,X_val, y_val  = df.get_data()\n"
   ]
  },
  {
   "cell_type": "code",
   "execution_count": 3,
   "metadata": {},
   "outputs": [],
   "source": [
    "#Now that we have our dataset in our dispose, we have to shuffle our dataset\n",
    "\n",
    "#Lets first shuffle our training data\n",
    "indices = np.arange(X_train.shape[0])\n",
    "np.random.shuffle(indices)\n",
    "\n",
    "X_train= X_train[indices]\n",
    "y_train = y_train[indices]\n",
    "\n",
    "\n",
    "# Now our testing data\n",
    "test_indices = np.arange(X_test.shape[0])\n",
    "\n",
    "np.random.shuffle(test_indices)\n",
    "X_test= X_test[test_indices]\n",
    "y_test = y_test[test_indices]\n",
    "\n",
    "\n",
    "\n",
    "val_indices = np.arange(X_val.shape[0])\n",
    "np.random.shuffle(val_indices)\n",
    "X_val = X_val[val_indices]\n",
    "y_val = y_val[val_indices]"
   ]
  },
  {
   "cell_type": "code",
   "execution_count": 4,
   "metadata": {},
   "outputs": [],
   "source": [
    "import warnings\n",
    "warnings.filterwarnings(\"ignore\")\n",
    "import tensorflow as tf\n",
    "import keras\n",
    "from tensorflow.keras.preprocessing.image import ImageDataGenerator\n",
    "from keras.models import Sequential \n",
    "from keras.layers import Conv2D, MaxPooling2D \n",
    "from keras.layers import Activation, Dropout, Flatten, Dense, BatchNormalization \n",
    "from keras import backend as K\n",
    "from sklearn import preprocessing\n",
    "from keras.utils import to_categorical\n",
    "from keras import regularizers\n"
   ]
  },
  {
   "cell_type": "code",
   "execution_count": 5,
   "metadata": {},
   "outputs": [],
   "source": [
    "input_shape = (50,50,3)\n",
    "kernel_size = (3,3)\n",
    "batch_size = 32\n",
    "epochs = 50"
   ]
  },
  {
   "cell_type": "code",
   "execution_count": 6,
   "metadata": {},
   "outputs": [],
   "source": [
    "cnn4 = Sequential()"
   ]
  },
  {
   "cell_type": "code",
   "execution_count": 7,
   "metadata": {},
   "outputs": [
    {
     "name": "stdout",
     "output_type": "stream",
     "text": [
      "WARNING:tensorflow:From /usr/local/lib/python3.6/dist-packages/keras/backend/tensorflow_backend.py:4070: The name tf.nn.max_pool is deprecated. Please use tf.nn.max_pool2d instead.\n",
      "\n",
      "WARNING:tensorflow:Large dropout rate: 0.6 (>0.5). In TensorFlow 2.x, dropout() uses dropout rate instead of keep_prob. Please ensure that this is intended.\n",
      "WARNING:tensorflow:Large dropout rate: 0.6 (>0.5). In TensorFlow 2.x, dropout() uses dropout rate instead of keep_prob. Please ensure that this is intended.\n"
     ]
    }
   ],
   "source": [
    "cnn4.add(Conv2D(16, kernel_size=(3, 3), activation='relu', input_shape=input_shape))\n",
    "cnn4.add(BatchNormalization())\n",
    "\n",
    "cnn4.add(Conv2D(32, kernel_size=(3, 3), activation='relu'))\n",
    "cnn4.add(BatchNormalization())  \n",
    "cnn4.add(MaxPooling2D(pool_size=(2, 2)))\n",
    "cnn4.add(Dropout(0.50))\n",
    "\n",
    "\n",
    "cnn4.add(Conv2D(32, kernel_size=(3, 3), activation='relu'))\n",
    "cnn4.add(BatchNormalization())\n",
    "cnn4.add(MaxPooling2D(pool_size=(2, 2)))\n",
    "cnn4.add(Dropout(0.60))\n",
    "\n",
    "\n",
    "cnn4.add(Flatten())\n",
    "\n",
    "cnn4.add(Dense(32, activation='relu',kernel_regularizer=regularizers.l2(0.01)))\n",
    "cnn4.add(BatchNormalization())\n",
    "cnn4.add(Dropout(0.6))\n",
    "\n",
    "cnn4.add(Dense(1, activation='sigmoid'))"
   ]
  },
  {
   "cell_type": "code",
   "execution_count": 8,
   "metadata": {},
   "outputs": [
    {
     "name": "stdout",
     "output_type": "stream",
     "text": [
      "WARNING:tensorflow:From /usr/local/lib/python3.6/dist-packages/tensorflow/python/ops/nn_impl.py:180: add_dispatch_support.<locals>.wrapper (from tensorflow.python.ops.array_ops) is deprecated and will be removed in a future version.\n",
      "Instructions for updating:\n",
      "Use tf.where in 2.0, which has the same broadcast rule as np.where\n",
      "WARNING:tensorflow:From /usr/local/lib/python3.6/dist-packages/keras/backend/tensorflow_backend.py:422: The name tf.global_variables is deprecated. Please use tf.compat.v1.global_variables instead.\n",
      "\n",
      "Epoch 1/50\n",
      "108/108 [==============================] - 55s 505ms/step - loss: 1.5263 - accuracy: 0.6175 - val_loss: 1.3174 - val_accuracy: 0.6362\n",
      "Epoch 2/50\n",
      "108/108 [==============================] - 51s 471ms/step - loss: 1.3330 - accuracy: 0.6452 - val_loss: 1.0999 - val_accuracy: 0.7149\n",
      "Epoch 3/50\n",
      "108/108 [==============================] - 51s 471ms/step - loss: 1.1622 - accuracy: 0.6688 - val_loss: 1.0337 - val_accuracy: 0.7085\n",
      "Epoch 4/50\n",
      "108/108 [==============================] - 51s 471ms/step - loss: 1.0718 - accuracy: 0.6837 - val_loss: 0.9378 - val_accuracy: 0.7277\n",
      "Epoch 5/50\n",
      "108/108 [==============================] - 51s 468ms/step - loss: 0.9583 - accuracy: 0.7068 - val_loss: 0.8786 - val_accuracy: 0.7298\n",
      "Epoch 6/50\n",
      "108/108 [==============================] - 51s 470ms/step - loss: 0.8960 - accuracy: 0.7105 - val_loss: 0.8462 - val_accuracy: 0.7170\n",
      "Epoch 7/50\n",
      "108/108 [==============================] - 52s 479ms/step - loss: 0.8342 - accuracy: 0.7114 - val_loss: 0.8265 - val_accuracy: 0.7277\n",
      "Epoch 8/50\n",
      "108/108 [==============================] - 51s 475ms/step - loss: 0.8038 - accuracy: 0.7254 - val_loss: 0.8033 - val_accuracy: 0.7213\n",
      "Epoch 9/50\n",
      "108/108 [==============================] - 50s 467ms/step - loss: 0.7522 - accuracy: 0.7376 - val_loss: 0.7632 - val_accuracy: 0.7085\n",
      "Epoch 10/50\n",
      "108/108 [==============================] - 53s 494ms/step - loss: 0.7462 - accuracy: 0.7306 - val_loss: 0.8288 - val_accuracy: 0.6511\n",
      "Epoch 11/50\n",
      "108/108 [==============================] - 51s 474ms/step - loss: 0.7270 - accuracy: 0.7373 - val_loss: 0.7073 - val_accuracy: 0.7426\n",
      "Epoch 12/50\n",
      "108/108 [==============================] - 51s 475ms/step - loss: 0.7124 - accuracy: 0.7324 - val_loss: 0.9998 - val_accuracy: 0.5362\n",
      "Epoch 13/50\n",
      "108/108 [==============================] - 51s 474ms/step - loss: 0.7071 - accuracy: 0.7376 - val_loss: 0.6731 - val_accuracy: 0.7383\n",
      "Epoch 14/50\n",
      "108/108 [==============================] - 51s 473ms/step - loss: 0.6862 - accuracy: 0.7423 - val_loss: 0.6748 - val_accuracy: 0.7681\n",
      "Epoch 15/50\n",
      "108/108 [==============================] - 51s 474ms/step - loss: 0.7128 - accuracy: 0.7332 - val_loss: 0.7618 - val_accuracy: 0.6766\n",
      "Epoch 16/50\n",
      "108/108 [==============================] - 51s 474ms/step - loss: 0.7019 - accuracy: 0.7335 - val_loss: 0.6827 - val_accuracy: 0.7532\n",
      "Epoch 17/50\n",
      "108/108 [==============================] - 52s 478ms/step - loss: 0.6916 - accuracy: 0.7388 - val_loss: 0.7288 - val_accuracy: 0.6489\n",
      "Epoch 18/50\n",
      "108/108 [==============================] - 51s 472ms/step - loss: 0.6706 - accuracy: 0.7493 - val_loss: 0.6547 - val_accuracy: 0.7468\n",
      "Epoch 19/50\n",
      "108/108 [==============================] - 51s 475ms/step - loss: 0.6577 - accuracy: 0.7589 - val_loss: 0.6426 - val_accuracy: 0.7532\n",
      "Epoch 20/50\n",
      "108/108 [==============================] - 52s 479ms/step - loss: 0.6600 - accuracy: 0.7520 - val_loss: 0.6711 - val_accuracy: 0.7234\n",
      "Epoch 21/50\n",
      "108/108 [==============================] - 50s 467ms/step - loss: 0.6554 - accuracy: 0.7585 - val_loss: 0.6591 - val_accuracy: 0.7553\n",
      "Epoch 22/50\n",
      "108/108 [==============================] - 51s 473ms/step - loss: 0.6479 - accuracy: 0.7638 - val_loss: 0.6320 - val_accuracy: 0.7809\n",
      "Epoch 23/50\n",
      "108/108 [==============================] - 51s 475ms/step - loss: 0.6416 - accuracy: 0.7607 - val_loss: 0.6508 - val_accuracy: 0.7702\n",
      "Epoch 24/50\n",
      "108/108 [==============================] - 51s 471ms/step - loss: 0.6474 - accuracy: 0.7685 - val_loss: 0.6777 - val_accuracy: 0.7383\n",
      "Epoch 25/50\n",
      "108/108 [==============================] - 52s 477ms/step - loss: 0.6493 - accuracy: 0.7601 - val_loss: 0.6451 - val_accuracy: 0.7681\n",
      "Epoch 26/50\n",
      "108/108 [==============================] - 52s 478ms/step - loss: 0.6395 - accuracy: 0.7723 - val_loss: 0.6608 - val_accuracy: 0.7702\n",
      "Epoch 27/50\n",
      "108/108 [==============================] - 51s 473ms/step - loss: 0.6622 - accuracy: 0.7682 - val_loss: 0.6658 - val_accuracy: 0.7787\n",
      "Epoch 28/50\n",
      "108/108 [==============================] - 51s 474ms/step - loss: 0.6666 - accuracy: 0.7569 - val_loss: 0.6586 - val_accuracy: 0.7766\n",
      "Epoch 29/50\n",
      "108/108 [==============================] - 51s 475ms/step - loss: 0.6512 - accuracy: 0.7752 - val_loss: 0.7279 - val_accuracy: 0.7043\n",
      "Epoch 30/50\n",
      "108/108 [==============================] - 52s 477ms/step - loss: 0.6539 - accuracy: 0.7671 - val_loss: 0.6285 - val_accuracy: 0.7745\n",
      "Epoch 31/50\n",
      "108/108 [==============================] - 51s 475ms/step - loss: 0.6631 - accuracy: 0.7630 - val_loss: 0.7935 - val_accuracy: 0.6362\n",
      "Epoch 32/50\n",
      "108/108 [==============================] - 51s 474ms/step - loss: 0.6584 - accuracy: 0.7758 - val_loss: 0.6635 - val_accuracy: 0.7638\n",
      "Epoch 33/50\n",
      "108/108 [==============================] - 53s 494ms/step - loss: 0.6225 - accuracy: 0.7886 - val_loss: 0.6339 - val_accuracy: 0.7851\n",
      "Epoch 34/50\n",
      "108/108 [==============================] - 51s 469ms/step - loss: 0.6373 - accuracy: 0.7800 - val_loss: 0.7293 - val_accuracy: 0.7106\n",
      "Epoch 35/50\n",
      "108/108 [==============================] - 51s 475ms/step - loss: 0.6429 - accuracy: 0.7758 - val_loss: 0.7102 - val_accuracy: 0.7362\n",
      "Epoch 36/50\n",
      "108/108 [==============================] - 51s 470ms/step - loss: 0.6382 - accuracy: 0.7756 - val_loss: 0.6674 - val_accuracy: 0.7681\n",
      "Epoch 37/50\n",
      "108/108 [==============================] - 52s 478ms/step - loss: 0.6337 - accuracy: 0.7925 - val_loss: 0.6403 - val_accuracy: 0.7936\n",
      "Epoch 38/50\n",
      "108/108 [==============================] - 51s 474ms/step - loss: 0.6407 - accuracy: 0.7770 - val_loss: 0.6847 - val_accuracy: 0.7489\n",
      "Epoch 39/50\n",
      "108/108 [==============================] - 51s 476ms/step - loss: 0.6289 - accuracy: 0.7897 - val_loss: 0.6490 - val_accuracy: 0.7936\n",
      "Epoch 40/50\n",
      "108/108 [==============================] - 51s 474ms/step - loss: 0.6439 - accuracy: 0.7822 - val_loss: 0.7178 - val_accuracy: 0.7426\n",
      "Epoch 41/50\n",
      "108/108 [==============================] - 52s 479ms/step - loss: 0.6304 - accuracy: 0.7870 - val_loss: 0.6568 - val_accuracy: 0.7872\n",
      "Epoch 42/50\n",
      "108/108 [==============================] - 51s 474ms/step - loss: 0.6290 - accuracy: 0.7831 - val_loss: 0.6492 - val_accuracy: 0.7894\n",
      "Epoch 43/50\n",
      "108/108 [==============================] - 52s 477ms/step - loss: 0.6219 - accuracy: 0.8029 - val_loss: 0.6456 - val_accuracy: 0.8000\n",
      "Epoch 44/50\n",
      "108/108 [==============================] - 51s 472ms/step - loss: 0.6183 - accuracy: 0.8038 - val_loss: 0.6747 - val_accuracy: 0.7574\n",
      "Epoch 45/50\n",
      "108/108 [==============================] - 51s 474ms/step - loss: 0.6501 - accuracy: 0.7904 - val_loss: 0.7515 - val_accuracy: 0.7170\n",
      "Epoch 46/50\n",
      "108/108 [==============================] - 51s 475ms/step - loss: 0.6344 - accuracy: 0.7948 - val_loss: 0.7181 - val_accuracy: 0.7298\n",
      "Epoch 47/50\n",
      "108/108 [==============================] - 52s 478ms/step - loss: 0.6315 - accuracy: 0.7950 - val_loss: 0.6484 - val_accuracy: 0.8064\n",
      "Epoch 48/50\n",
      "108/108 [==============================] - 51s 475ms/step - loss: 0.6126 - accuracy: 0.8038 - val_loss: 0.6454 - val_accuracy: 0.7957\n",
      "Epoch 49/50\n",
      "108/108 [==============================] - 52s 482ms/step - loss: 0.6247 - accuracy: 0.8009 - val_loss: 0.6322 - val_accuracy: 0.8000\n",
      "Epoch 50/50\n",
      "108/108 [==============================] - 52s 480ms/step - loss: 0.6342 - accuracy: 0.7920 - val_loss: 0.7133 - val_accuracy: 0.7298\n"
     ]
    }
   ],
   "source": [
    "cnn4.compile(optimizer='adam', \n",
    "              loss='binary_crossentropy',\n",
    "              metrics=['accuracy'])\n",
    "\n",
    "\n",
    "train_datagen = ImageDataGenerator( \n",
    "                        rescale=0.0/255\n",
    "                        )\n",
    "train_generator = train_datagen.flow(x=X_train, \n",
    "                                     y=y_train, \n",
    "                                     batch_size=batch_size)\n",
    "\n",
    "\n",
    "history = cnn4.fit_generator(train_generator, \n",
    "                             validation_data=(X_val,y_val),\n",
    "                             steps_per_epoch=len(X_train)//batch_size, \n",
    "                             epochs=epochs\n",
    "                            )"
   ]
  },
  {
   "cell_type": "code",
   "execution_count": 10,
   "metadata": {},
   "outputs": [
    {
     "name": "stdout",
     "output_type": "stream",
     "text": [
      "dict_keys(['val_loss', 'val_accuracy', 'loss', 'accuracy'])\n"
     ]
    },
    {
     "data": {
      "image/png": "[encoded data removed]",
      "text/plain": [
       "<Figure size 432x288 with 1 Axes>"
      ]
     },
     "metadata": {},
     "output_type": "display_data"
    },
    {
     "data": {
      "image/png": "[encoded data removed]",
      "text/plain": [
       "<Figure size 432x288 with 1 Axes>"
      ]
     },
     "metadata": {},
     "output_type": "display_data"
    }
   ],
   "source": [
    "import matplotlib.pyplot as plt\n",
    "\n",
    "\n",
    "\n",
    "\n",
    "# list all data in history\n",
    "print(history.history.keys())\n",
    "# summarize history for accuracy\n",
    "plt.plot(history.history['accuracy'])\n",
    "plt.plot(history.history['val_accuracy'])\n",
    "plt.title('model accuracy')\n",
    "plt.ylabel('accuracy')\n",
    "plt.xlabel('epoch')\n",
    "plt.legend(['train', 'test'], loc='upper left')\n",
    "plt.show()\n",
    "# summarize history for loss\n",
    "plt.plot(history.history['loss'])\n",
    "plt.plot(history.history['val_loss'])\n",
    "plt.title('model loss')\n",
    "plt.ylabel('loss')\n",
    "plt.xlabel('epoch')\n",
    "plt.legend(['train', 'test'], loc='upper left')\n",
    "plt.show()\n"
   ]
  },
  {
   "cell_type": "code",
   "execution_count": 12,
   "metadata": {},
   "outputs": [
    {
     "name": "stdout",
     "output_type": "stream",
     "text": [
      "1671/1671 [==============================] - 6s 4ms/step\n",
      "Results:\n",
      "ERROR LOSS:0.7313252478071061\n",
      "ACC: 73%\n"
     ]
    }
   ],
   "source": [
    "loss,acc = cnn4.evaluate(X_test, y_test, batch_size=batch_size)\n",
    "\n",
    "print(\"Results:\\nERROR LOSS:{}\\nACC: {}%\".format(loss, round(acc*100)))"
   ]
  },
  {
   "cell_type": "code",
   "execution_count": null,
   "metadata": {},
   "outputs": [],
   "source": []
  },
  {
   "cell_type": "code",
   "execution_count": null,
   "metadata": {},
   "outputs": [],
   "source": []
  },
  {
   "cell_type": "code",
   "execution_count": null,
   "metadata": {},
   "outputs": [],
   "source": []
  },
  {
   "cell_type": "code",
   "execution_count": null,
   "metadata": {},
   "outputs": [],
   "source": []
  },
  {
   "cell_type": "code",
   "execution_count": null,
   "metadata": {},
   "outputs": [],
   "source": []
  },
  {
   "cell_type": "code",
   "execution_count": null,
   "metadata": {},
   "outputs": [],
   "source": []
  },
  {
   "cell_type": "code",
   "execution_count": null,
   "metadata": {},
   "outputs": [],
   "source": []
  },
  {
   "cell_type": "code",
   "execution_count": null,
   "metadata": {},
   "outputs": [],
   "source": []
  },
  {
   "cell_type": "code",
   "execution_count": null,
   "metadata": {},
   "outputs": [],
   "source": []
  },
  {
   "cell_type": "code",
   "execution_count": null,
   "metadata": {},
   "outputs": [],
   "source": []
  },
  {
   "cell_type": "code",
   "execution_count": null,
   "metadata": {},
   "outputs": [],
   "source": []
  },
  {
   "cell_type": "code",
   "execution_count": null,
   "metadata": {},
   "outputs": [],
   "source": []
  },
  {
   "cell_type": "code",
   "execution_count": null,
   "metadata": {},
   "outputs": [],
   "source": []
  }
 ],
 "metadata": {
  "kernelspec": {
   "display_name": "Python 3",
   "language": "python",
   "name": "python3"
  },
  "language_info": {
   "codemirror_mode": {
    "name": "ipython",
    "version": 3
   },
   "file_extension": ".py",
   "mimetype": "text/x-python",
   "name": "python",
   "nbconvert_exporter": "python",
   "pygments_lexer": "ipython3",
   "version": "3.6.9"
  }
 },
 "nbformat": 4,
 "nbformat_minor": 2
}
