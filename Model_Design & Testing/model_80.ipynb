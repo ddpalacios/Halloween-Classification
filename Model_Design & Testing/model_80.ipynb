{
 "cells": [
  {
   "cell_type": "code",
   "execution_count": 1,
   "metadata": {},
   "outputs": [
    {
     "name": "stderr",
     "output_type": "stream",
     "text": [
      "Using TensorFlow backend.\n"
     ]
    }
   ],
   "source": [
    "import keras\n",
    "import tensorflow as tf\n",
    "import numpy as np"
   ]
  },
  {
   "cell_type": "code",
   "execution_count": null,
   "metadata": {},
   "outputs": [],
   "source": []
  },
  {
   "cell_type": "code",
   "execution_count": null,
   "metadata": {},
   "outputs": [],
   "source": []
  },
  {
   "cell_type": "code",
   "execution_count": null,
   "metadata": {},
   "outputs": [],
   "source": []
  },
  {
   "cell_type": "code",
   "execution_count": null,
   "metadata": {},
   "outputs": [],
   "source": []
  },
  {
   "cell_type": "code",
   "execution_count": null,
   "metadata": {},
   "outputs": [],
   "source": []
  },
  {
   "cell_type": "code",
   "execution_count": null,
   "metadata": {},
   "outputs": [],
   "source": []
  },
  {
   "cell_type": "code",
   "execution_count": null,
   "metadata": {},
   "outputs": [],
   "source": []
  },
  {
   "cell_type": "code",
   "execution_count": null,
   "metadata": {},
   "outputs": [],
   "source": []
  },
  {
   "cell_type": "code",
   "execution_count": 2,
   "metadata": {},
   "outputs": [],
   "source": [
    "class load_file:\n",
    "    def __init__(self, file):\n",
    "        self.file = file\n",
    "\n",
    "    def get_data(self):\n",
    "        hal = np.load(self.file)\n",
    "        X_train, y_train, X_test, y_test,X_val, y_val = [hal[f] for f in hal.files]\n",
    "        return X_train, y_train, X_test, y_test,X_val, y_val \n",
    "    \n",
    "df = load_file('halloween_classes.npz')\n",
    "X_train, y_train, X_test, y_test,X_val, y_val  = df.get_data()\n"
   ]
  },
  {
   "cell_type": "code",
   "execution_count": 3,
   "metadata": {},
   "outputs": [],
   "source": [
    "#Now that we have our dataset in our dispose, we have to shuffle our dataset\n",
    "\n",
    "#Lets first shuffle our training data\n",
    "indices = np.arange(X_train.shape[0])\n",
    "np.random.shuffle(indices)\n",
    "\n",
    "X_train= X_train[indices]\n",
    "y_train = y_train[indices]\n",
    "\n",
    "\n",
    "# Now our testing data\n",
    "test_indices = np.arange(X_test.shape[0])\n",
    "\n",
    "np.random.shuffle(test_indices)\n",
    "X_test= X_test[test_indices]\n",
    "y_test = y_test[test_indices]\n",
    "\n",
    "\n",
    "\n",
    "val_indices = np.arange(X_val.shape[0])\n",
    "np.random.shuffle(val_indices)\n",
    "X_val = X_val[val_indices]\n",
    "y_val = y_val[val_indices]"
   ]
  },
  {
   "cell_type": "code",
   "execution_count": 4,
   "metadata": {},
   "outputs": [],
   "source": [
    "import warnings\n",
    "warnings.filterwarnings(\"ignore\")\n",
    "import tensorflow as tf\n",
    "import keras\n",
    "from tensorflow.keras.preprocessing.image import ImageDataGenerator\n",
    "from keras.models import Sequential \n",
    "from keras.layers import Conv2D, MaxPooling2D \n",
    "from keras.layers import Activation, Dropout, Flatten, Dense, BatchNormalization \n",
    "from keras import backend as K\n",
    "from sklearn import preprocessing\n",
    "from keras.utils import to_categorical\n",
    "from keras import regularizers\n"
   ]
  },
  {
   "cell_type": "code",
   "execution_count": 5,
   "metadata": {},
   "outputs": [],
   "source": [
    "input_shape = (50,50,3)\n",
    "kernel_size = (3,3)\n",
    "batch_size = 15\n",
    "epochs = 100"
   ]
  },
  {
   "cell_type": "code",
   "execution_count": 6,
   "metadata": {},
   "outputs": [],
   "source": [
    "cnn4 = Sequential()"
   ]
  },
  {
   "cell_type": "code",
   "execution_count": 7,
   "metadata": {},
   "outputs": [
    {
     "name": "stdout",
     "output_type": "stream",
     "text": [
      "WARNING:tensorflow:From /usr/local/lib/python3.6/dist-packages/keras/backend/tensorflow_backend.py:4070: The name tf.nn.max_pool is deprecated. Please use tf.nn.max_pool2d instead.\n",
      "\n",
      "WARNING:tensorflow:Large dropout rate: 0.6 (>0.5). In TensorFlow 2.x, dropout() uses dropout rate instead of keep_prob. Please ensure that this is intended.\n",
      "WARNING:tensorflow:Large dropout rate: 0.6 (>0.5). In TensorFlow 2.x, dropout() uses dropout rate instead of keep_prob. Please ensure that this is intended.\n"
     ]
    }
   ],
   "source": [
    "cnn4.add(Conv2D(16, kernel_size=(3, 3), activation='relu', input_shape=input_shape))\n",
    "cnn4.add(BatchNormalization())\n",
    "\n",
    "cnn4.add(Conv2D(32, kernel_size=(3, 3), activation='relu'))\n",
    "cnn4.add(BatchNormalization())  \n",
    "cnn4.add(MaxPooling2D(pool_size=(2, 2)))\n",
    "cnn4.add(Dropout(0.50))\n",
    "\n",
    "\n",
    "cnn4.add(Conv2D(32, kernel_size=(3, 3), activation='relu'))\n",
    "cnn4.add(BatchNormalization())\n",
    "cnn4.add(MaxPooling2D(pool_size=(2, 2)))\n",
    "cnn4.add(Dropout(0.60))\n",
    "\n",
    "\n",
    "cnn4.add(Flatten())\n",
    "\n",
    "cnn4.add(Dense(32, activation='relu',kernel_regularizer=regularizers.l2(0.01)))\n",
    "cnn4.add(BatchNormalization())\n",
    "cnn4.add(Dropout(0.6))\n",
    "\n",
    "cnn4.add(Dense(1, activation='sigmoid'))"
   ]
  },
  {
   "cell_type": "code",
   "execution_count": 8,
   "metadata": {
    "scrolled": false
   },
   "outputs": [
    {
     "name": "stdout",
     "output_type": "stream",
     "text": [
      "WARNING:tensorflow:From /usr/local/lib/python3.6/dist-packages/tensorflow/python/ops/nn_impl.py:180: add_dispatch_support.<locals>.wrapper (from tensorflow.python.ops.array_ops) is deprecated and will be removed in a future version.\n",
      "Instructions for updating:\n",
      "Use tf.where in 2.0, which has the same broadcast rule as np.where\n",
      "WARNING:tensorflow:From /usr/local/lib/python3.6/dist-packages/keras/backend/tensorflow_backend.py:422: The name tf.global_variables is deprecated. Please use tf.compat.v1.global_variables instead.\n",
      "\n",
      "Epoch 1/100\n",
      "230/230 [==============================] - 64s 279ms/step - loss: 1.4446 - accuracy: 0.5994 - val_loss: 1.1276 - val_accuracy: 0.6787\n",
      "Epoch 2/100\n",
      "230/230 [==============================] - 65s 283ms/step - loss: 1.1827 - accuracy: 0.6585 - val_loss: 0.9889 - val_accuracy: 0.7362\n",
      "Epoch 3/100\n",
      "230/230 [==============================] - 68s 294ms/step - loss: 1.0058 - accuracy: 0.6672 - val_loss: 0.8918 - val_accuracy: 0.6936\n",
      "Epoch 4/100\n",
      "230/230 [==============================] - 56s 243ms/step - loss: 0.8793 - accuracy: 0.6902 - val_loss: 0.8503 - val_accuracy: 0.6702\n",
      "Epoch 5/100\n",
      "230/230 [==============================] - 56s 244ms/step - loss: 0.8176 - accuracy: 0.6870 - val_loss: 0.8817 - val_accuracy: 0.6000\n",
      "Epoch 6/100\n",
      "230/230 [==============================] - 64s 280ms/step - loss: 0.7620 - accuracy: 0.7084 - val_loss: 0.9377 - val_accuracy: 0.6362\n",
      "Epoch 7/100\n",
      "230/230 [==============================] - 59s 259ms/step - loss: 0.7491 - accuracy: 0.7148 - val_loss: 1.2679 - val_accuracy: 0.6255\n",
      "Epoch 8/100\n",
      "230/230 [==============================] - 65s 283ms/step - loss: 0.7346 - accuracy: 0.7119 - val_loss: 0.9035 - val_accuracy: 0.7043\n",
      "Epoch 9/100\n",
      "230/230 [==============================] - 65s 281ms/step - loss: 0.6973 - accuracy: 0.7250 - val_loss: 1.2264 - val_accuracy: 0.6468\n",
      "Epoch 10/100\n",
      "230/230 [==============================] - 62s 271ms/step - loss: 0.7089 - accuracy: 0.7186 - val_loss: 0.6611 - val_accuracy: 0.7404\n",
      "Epoch 11/100\n",
      "230/230 [==============================] - 64s 280ms/step - loss: 0.7122 - accuracy: 0.7186 - val_loss: 0.7100 - val_accuracy: 0.7021\n",
      "Epoch 12/100\n",
      "230/230 [==============================] - 61s 264ms/step - loss: 0.7192 - accuracy: 0.7142 - val_loss: 0.7365 - val_accuracy: 0.7277\n",
      "Epoch 13/100\n",
      "230/230 [==============================] - 55s 240ms/step - loss: 0.7344 - accuracy: 0.7171 - val_loss: 0.6787 - val_accuracy: 0.7660\n",
      "Epoch 14/100\n",
      "230/230 [==============================] - 53s 230ms/step - loss: 0.7082 - accuracy: 0.7195 - val_loss: 0.7183 - val_accuracy: 0.6936\n",
      "Epoch 15/100\n",
      "230/230 [==============================] - 53s 230ms/step - loss: 0.7037 - accuracy: 0.7366 - val_loss: 0.6948 - val_accuracy: 0.7298\n",
      "Epoch 16/100\n",
      "230/230 [==============================] - 57s 247ms/step - loss: 0.7024 - accuracy: 0.7404 - val_loss: 0.7165 - val_accuracy: 0.7170\n",
      "Epoch 17/100\n",
      "230/230 [==============================] - 52s 228ms/step - loss: 0.7260 - accuracy: 0.7386 - val_loss: 0.6743 - val_accuracy: 0.7702\n",
      "Epoch 18/100\n",
      "230/230 [==============================] - 56s 245ms/step - loss: 0.6977 - accuracy: 0.7395 - val_loss: 0.7085 - val_accuracy: 0.7255\n",
      "Epoch 19/100\n",
      "230/230 [==============================] - 55s 240ms/step - loss: 0.6947 - accuracy: 0.7487 - val_loss: 0.7238 - val_accuracy: 0.7340\n",
      "Epoch 20/100\n",
      "230/230 [==============================] - 55s 237ms/step - loss: 0.7157 - accuracy: 0.7412 - val_loss: 0.7523 - val_accuracy: 0.6979\n",
      "Epoch 21/100\n",
      "230/230 [==============================] - 67s 292ms/step - loss: 0.7088 - accuracy: 0.7381 - val_loss: 0.6945 - val_accuracy: 0.7723\n",
      "Epoch 22/100\n",
      "230/230 [==============================] - 66s 288ms/step - loss: 0.6941 - accuracy: 0.7496 - val_loss: 0.6716 - val_accuracy: 0.7681\n",
      "Epoch 23/100\n",
      "230/230 [==============================] - 66s 287ms/step - loss: 0.6974 - accuracy: 0.7483 - val_loss: 0.7240 - val_accuracy: 0.7170\n",
      "Epoch 24/100\n",
      "230/230 [==============================] - 92s 398ms/step - loss: 0.6698 - accuracy: 0.7563 - val_loss: 0.6929 - val_accuracy: 0.7362\n",
      "Epoch 25/100\n",
      "230/230 [==============================] - 75s 325ms/step - loss: 0.6790 - accuracy: 0.7653 - val_loss: 0.6958 - val_accuracy: 0.7426\n",
      "Epoch 26/100\n",
      "230/230 [==============================] - 57s 247ms/step - loss: 0.7152 - accuracy: 0.7464 - val_loss: 0.7587 - val_accuracy: 0.7213\n",
      "Epoch 27/100\n",
      "230/230 [==============================] - 52s 228ms/step - loss: 0.7110 - accuracy: 0.7522 - val_loss: 0.7136 - val_accuracy: 0.7766\n",
      "Epoch 28/100\n",
      "230/230 [==============================] - 53s 228ms/step - loss: 0.7010 - accuracy: 0.7636 - val_loss: 0.6960 - val_accuracy: 0.7766\n",
      "Epoch 29/100\n",
      "230/230 [==============================] - 53s 228ms/step - loss: 0.7099 - accuracy: 0.7583 - val_loss: 0.6787 - val_accuracy: 0.7596\n",
      "Epoch 30/100\n",
      "230/230 [==============================] - 52s 228ms/step - loss: 0.7105 - accuracy: 0.7594 - val_loss: 0.7174 - val_accuracy: 0.7426\n",
      "Epoch 31/100\n",
      "230/230 [==============================] - 52s 228ms/step - loss: 0.6895 - accuracy: 0.7724 - val_loss: 0.7627 - val_accuracy: 0.6957\n",
      "Epoch 32/100\n",
      "230/230 [==============================] - 56s 244ms/step - loss: 0.6807 - accuracy: 0.7830 - val_loss: 0.8764 - val_accuracy: 0.6213\n",
      "Epoch 33/100\n",
      "230/230 [==============================] - 56s 245ms/step - loss: 0.6926 - accuracy: 0.7633 - val_loss: 0.7671 - val_accuracy: 0.7234\n",
      "Epoch 34/100\n",
      "230/230 [==============================] - 65s 282ms/step - loss: 0.7229 - accuracy: 0.7682 - val_loss: 0.7527 - val_accuracy: 0.7319\n",
      "Epoch 35/100\n",
      "230/230 [==============================] - 64s 276ms/step - loss: 0.6998 - accuracy: 0.7781 - val_loss: 0.6822 - val_accuracy: 0.7894\n",
      "Epoch 36/100\n",
      "230/230 [==============================] - 62s 270ms/step - loss: 0.6743 - accuracy: 0.7821 - val_loss: 0.7059 - val_accuracy: 0.7787\n",
      "Epoch 37/100\n",
      "230/230 [==============================] - 63s 276ms/step - loss: 0.6962 - accuracy: 0.7765 - val_loss: 0.8002 - val_accuracy: 0.6894\n",
      "Epoch 38/100\n",
      "230/230 [==============================] - 57s 250ms/step - loss: 0.6904 - accuracy: 0.7822 - val_loss: 0.7011 - val_accuracy: 0.7809\n",
      "Epoch 39/100\n",
      "230/230 [==============================] - 59s 255ms/step - loss: 0.7019 - accuracy: 0.7728 - val_loss: 0.7268 - val_accuracy: 0.7511\n",
      "Epoch 40/100\n",
      "230/230 [==============================] - 57s 248ms/step - loss: 0.6807 - accuracy: 0.7767 - val_loss: 0.6725 - val_accuracy: 0.8064\n",
      "Epoch 41/100\n",
      "230/230 [==============================] - 57s 249ms/step - loss: 0.6793 - accuracy: 0.7850 - val_loss: 0.7225 - val_accuracy: 0.7511\n",
      "Epoch 42/100\n",
      "230/230 [==============================] - 57s 249ms/step - loss: 0.6566 - accuracy: 0.7992 - val_loss: 0.7083 - val_accuracy: 0.7745\n",
      "Epoch 43/100\n",
      "230/230 [==============================] - 57s 250ms/step - loss: 0.6759 - accuracy: 0.7946 - val_loss: 0.7255 - val_accuracy: 0.7404\n",
      "Epoch 44/100\n",
      "230/230 [==============================] - 61s 265ms/step - loss: 0.6797 - accuracy: 0.7882 - val_loss: 0.7444 - val_accuracy: 0.7426\n",
      "Epoch 45/100\n",
      "230/230 [==============================] - 56s 245ms/step - loss: 0.6800 - accuracy: 0.7876 - val_loss: 0.7521 - val_accuracy: 0.7362\n",
      "Epoch 46/100\n",
      "230/230 [==============================] - 56s 244ms/step - loss: 0.6828 - accuracy: 0.7879 - val_loss: 0.7687 - val_accuracy: 0.7255\n",
      "Epoch 47/100\n",
      "230/230 [==============================] - 56s 245ms/step - loss: 0.6855 - accuracy: 0.7917 - val_loss: 0.6930 - val_accuracy: 0.8064\n",
      "Epoch 48/100\n",
      "230/230 [==============================] - 57s 246ms/step - loss: 0.6755 - accuracy: 0.7903 - val_loss: 0.7743 - val_accuracy: 0.7234\n",
      "Epoch 49/100\n",
      "230/230 [==============================] - 56s 245ms/step - loss: 0.6721 - accuracy: 0.7975 - val_loss: 0.7001 - val_accuracy: 0.7851\n",
      "Epoch 50/100\n",
      "230/230 [==============================] - 56s 245ms/step - loss: 0.6678 - accuracy: 0.8038 - val_loss: 0.7127 - val_accuracy: 0.7787\n",
      "Epoch 51/100\n",
      "230/230 [==============================] - 56s 245ms/step - loss: 0.6872 - accuracy: 0.7883 - val_loss: 0.7752 - val_accuracy: 0.7404\n",
      "Epoch 52/100\n",
      "230/230 [==============================] - 56s 244ms/step - loss: 0.6786 - accuracy: 0.7940 - val_loss: 0.7022 - val_accuracy: 0.7872\n",
      "Epoch 53/100\n"
     ]
    },
    {
     "name": "stdout",
     "output_type": "stream",
     "text": [
      "230/230 [==============================] - 54s 234ms/step - loss: 0.6740 - accuracy: 0.7949 - val_loss: 0.6941 - val_accuracy: 0.7745\n",
      "Epoch 54/100\n",
      "230/230 [==============================] - 54s 234ms/step - loss: 0.6846 - accuracy: 0.7971 - val_loss: 0.7089 - val_accuracy: 0.7745\n",
      "Epoch 55/100\n",
      "230/230 [==============================] - 54s 233ms/step - loss: 0.6548 - accuracy: 0.8031 - val_loss: 0.9025 - val_accuracy: 0.5851\n",
      "Epoch 56/100\n",
      "230/230 [==============================] - 54s 234ms/step - loss: 0.6922 - accuracy: 0.7878 - val_loss: 0.6963 - val_accuracy: 0.8021\n",
      "Epoch 57/100\n",
      "230/230 [==============================] - 54s 233ms/step - loss: 0.6599 - accuracy: 0.8008 - val_loss: 0.9014 - val_accuracy: 0.6191\n",
      "Epoch 58/100\n",
      "230/230 [==============================] - 54s 234ms/step - loss: 0.6772 - accuracy: 0.8046 - val_loss: 0.7205 - val_accuracy: 0.7787\n",
      "Epoch 59/100\n",
      "230/230 [==============================] - 62s 270ms/step - loss: 0.6939 - accuracy: 0.7843 - val_loss: 0.7260 - val_accuracy: 0.7681\n",
      "Epoch 60/100\n",
      "230/230 [==============================] - 58s 251ms/step - loss: 0.6796 - accuracy: 0.8024 - val_loss: 0.6936 - val_accuracy: 0.8106\n",
      "Epoch 61/100\n",
      "230/230 [==============================] - 66s 285ms/step - loss: 0.6931 - accuracy: 0.8000 - val_loss: 0.7586 - val_accuracy: 0.7660\n",
      "Epoch 62/100\n",
      "230/230 [==============================] - 72s 313ms/step - loss: 0.6850 - accuracy: 0.8028 - val_loss: 0.7589 - val_accuracy: 0.7532\n",
      "Epoch 63/100\n",
      "230/230 [==============================] - 62s 270ms/step - loss: 0.6877 - accuracy: 0.7974 - val_loss: 0.7009 - val_accuracy: 0.8043\n",
      "Epoch 64/100\n",
      "230/230 [==============================] - 62s 270ms/step - loss: 0.6641 - accuracy: 0.8060 - val_loss: 0.7785 - val_accuracy: 0.7298\n",
      "Epoch 65/100\n",
      "230/230 [==============================] - 70s 305ms/step - loss: 0.6685 - accuracy: 0.8058 - val_loss: 0.6973 - val_accuracy: 0.7894\n",
      "Epoch 66/100\n",
      "230/230 [==============================] - 62s 268ms/step - loss: 0.6622 - accuracy: 0.8130 - val_loss: 0.7190 - val_accuracy: 0.7702\n",
      "Epoch 67/100\n",
      "230/230 [==============================] - 61s 263ms/step - loss: 0.6608 - accuracy: 0.8077 - val_loss: 0.7052 - val_accuracy: 0.8149\n",
      "Epoch 68/100\n",
      "230/230 [==============================] - 58s 252ms/step - loss: 0.6513 - accuracy: 0.8129 - val_loss: 0.7153 - val_accuracy: 0.7809\n",
      "Epoch 69/100\n",
      "230/230 [==============================] - 59s 255ms/step - loss: 0.6572 - accuracy: 0.8138 - val_loss: 0.7682 - val_accuracy: 0.7404\n",
      "Epoch 70/100\n",
      "230/230 [==============================] - 59s 257ms/step - loss: 0.6773 - accuracy: 0.7995 - val_loss: 0.7375 - val_accuracy: 0.7766\n",
      "Epoch 71/100\n",
      "230/230 [==============================] - 57s 247ms/step - loss: 0.6625 - accuracy: 0.8128 - val_loss: 0.7680 - val_accuracy: 0.7766\n",
      "Epoch 72/100\n",
      "230/230 [==============================] - 57s 249ms/step - loss: 0.6697 - accuracy: 0.8110 - val_loss: 0.7152 - val_accuracy: 0.7872\n",
      "Epoch 73/100\n",
      "230/230 [==============================] - 56s 244ms/step - loss: 0.6747 - accuracy: 0.7986 - val_loss: 0.8417 - val_accuracy: 0.6766\n",
      "Epoch 74/100\n",
      "230/230 [==============================] - 56s 245ms/step - loss: 0.6680 - accuracy: 0.8069 - val_loss: 0.8923 - val_accuracy: 0.5979\n",
      "Epoch 75/100\n",
      "230/230 [==============================] - 56s 245ms/step - loss: 0.6414 - accuracy: 0.8169 - val_loss: 0.7490 - val_accuracy: 0.7660\n",
      "Epoch 76/100\n",
      "230/230 [==============================] - 56s 244ms/step - loss: 0.6575 - accuracy: 0.8082 - val_loss: 0.7747 - val_accuracy: 0.7447\n",
      "Epoch 77/100\n",
      "230/230 [==============================] - 57s 247ms/step - loss: 0.6537 - accuracy: 0.8107 - val_loss: 0.6826 - val_accuracy: 0.8149\n",
      "Epoch 78/100\n",
      "230/230 [==============================] - 58s 251ms/step - loss: 0.6706 - accuracy: 0.8037 - val_loss: 0.7642 - val_accuracy: 0.7532\n",
      "Epoch 79/100\n",
      "230/230 [==============================] - 56s 244ms/step - loss: 0.6610 - accuracy: 0.8078 - val_loss: 0.7267 - val_accuracy: 0.8000\n",
      "Epoch 80/100\n",
      "230/230 [==============================] - 56s 245ms/step - loss: 0.6722 - accuracy: 0.8150 - val_loss: 0.7021 - val_accuracy: 0.8043\n",
      "Epoch 81/100\n",
      "230/230 [==============================] - 56s 245ms/step - loss: 0.6413 - accuracy: 0.8230 - val_loss: 0.8223 - val_accuracy: 0.7085\n",
      "Epoch 82/100\n",
      "230/230 [==============================] - 57s 248ms/step - loss: 0.6619 - accuracy: 0.8107 - val_loss: 0.7273 - val_accuracy: 0.8085\n",
      "Epoch 83/100\n",
      "230/230 [==============================] - 57s 246ms/step - loss: 0.6420 - accuracy: 0.8171 - val_loss: 0.6842 - val_accuracy: 0.7915\n",
      "Epoch 84/100\n",
      "230/230 [==============================] - 57s 247ms/step - loss: 0.6419 - accuracy: 0.8186 - val_loss: 0.6576 - val_accuracy: 0.8149\n",
      "Epoch 85/100\n",
      "230/230 [==============================] - 57s 246ms/step - loss: 0.6708 - accuracy: 0.8132 - val_loss: 0.6795 - val_accuracy: 0.8191\n",
      "Epoch 86/100\n",
      "230/230 [==============================] - 57s 248ms/step - loss: 0.6448 - accuracy: 0.8185 - val_loss: 0.6868 - val_accuracy: 0.8213\n",
      "Epoch 87/100\n",
      "230/230 [==============================] - 57s 248ms/step - loss: 0.6527 - accuracy: 0.8249 - val_loss: 0.7654 - val_accuracy: 0.7638\n",
      "Epoch 88/100\n",
      "230/230 [==============================] - 56s 245ms/step - loss: 0.6456 - accuracy: 0.8223 - val_loss: 0.7046 - val_accuracy: 0.8085\n",
      "Epoch 89/100\n",
      "230/230 [==============================] - 57s 246ms/step - loss: 0.6316 - accuracy: 0.8288 - val_loss: 0.7415 - val_accuracy: 0.7660\n",
      "Epoch 90/100\n",
      "230/230 [==============================] - 56s 245ms/step - loss: 0.6631 - accuracy: 0.8100 - val_loss: 0.6674 - val_accuracy: 0.8170\n",
      "Epoch 91/100\n",
      "230/230 [==============================] - 56s 245ms/step - loss: 0.6366 - accuracy: 0.8207 - val_loss: 0.6849 - val_accuracy: 0.8085\n",
      "Epoch 92/100\n",
      "230/230 [==============================] - 56s 245ms/step - loss: 0.6465 - accuracy: 0.8191 - val_loss: 0.6656 - val_accuracy: 0.8043\n",
      "Epoch 93/100\n",
      "230/230 [==============================] - 56s 246ms/step - loss: 0.6495 - accuracy: 0.8232 - val_loss: 0.7413 - val_accuracy: 0.7681\n",
      "Epoch 94/100\n",
      "230/230 [==============================] - 57s 247ms/step - loss: 0.6550 - accuracy: 0.8190 - val_loss: 0.8651 - val_accuracy: 0.6787\n",
      "Epoch 95/100\n",
      "230/230 [==============================] - 57s 249ms/step - loss: 0.6416 - accuracy: 0.8243 - val_loss: 0.7857 - val_accuracy: 0.7447\n",
      "Epoch 96/100\n",
      "230/230 [==============================] - 61s 266ms/step - loss: 0.6761 - accuracy: 0.8126 - val_loss: 0.6908 - val_accuracy: 0.8106\n",
      "Epoch 97/100\n",
      "230/230 [==============================] - 57s 246ms/step - loss: 0.6379 - accuracy: 0.8233 - val_loss: 0.6676 - val_accuracy: 0.8064\n",
      "Epoch 98/100\n",
      "230/230 [==============================] - 64s 278ms/step - loss: 0.6532 - accuracy: 0.8130 - val_loss: 0.6840 - val_accuracy: 0.8255\n",
      "Epoch 99/100\n",
      "230/230 [==============================] - 59s 256ms/step - loss: 0.6424 - accuracy: 0.8230 - val_loss: 0.6601 - val_accuracy: 0.8340\n",
      "Epoch 100/100\n",
      "230/230 [==============================] - 56s 245ms/step - loss: 0.6293 - accuracy: 0.8275 - val_loss: 0.6868 - val_accuracy: 0.8213\n"
     ]
    }
   ],
   "source": [
    "cnn4.compile(optimizer='adam', \n",
    "              loss='binary_crossentropy',\n",
    "              metrics=['accuracy'])\n",
    "\n",
    "\n",
    "train_datagen = ImageDataGenerator( \n",
    "                        rescale=0.0/255\n",
    "                        )\n",
    "train_generator = train_datagen.flow(x=X_train, \n",
    "                                     y=y_train, \n",
    "                                     batch_size=batch_size)\n",
    "\n",
    "\n",
    "history = cnn4.fit_generator(train_generator, \n",
    "                             validation_data=(X_val,y_val),\n",
    "                             steps_per_epoch=len(X_train)//batch_size, \n",
    "                             epochs=epochs\n",
    "                            )"
   ]
  },
  {
   "cell_type": "code",
   "execution_count": 11,
   "metadata": {},
   "outputs": [
    {
     "name": "stdout",
     "output_type": "stream",
     "text": [
      "dict_keys(['val_loss', 'val_accuracy', 'loss', 'accuracy'])\n"
     ]
    },
    {
     "data": {
      "image/png": "[encoded data removed]",
      "text/plain": [
       "<Figure size 432x288 with 1 Axes>"
      ]
     },
     "metadata": {},
     "output_type": "display_data"
    },
    {
     "data": {
      "image/png": "[encoded data removed]",
      "text/plain": [
       "<Figure size 432x288 with 1 Axes>"
      ]
     },
     "metadata": {},
     "output_type": "display_data"
    }
   ],
   "source": [
    "import matplotlib.pyplot as plt\n",
    "\n",
    "\n",
    "\n",
    "\n",
    "# list all data in history\n",
    "print(history.history.keys())\n",
    "# summarize history for accuracy\n",
    "plt.plot(history.history['accuracy'])\n",
    "plt.plot(history.history['val_accuracy'])\n",
    "plt.title('model accuracy')\n",
    "plt.ylabel('accuracy')\n",
    "plt.xlabel('epoch')\n",
    "plt.legend(['train', 'test'], loc='upper left')\n",
    "plt.show()\n",
    "# summarize history for loss\n",
    "plt.plot(history.history['loss'])\n",
    "plt.plot(history.history['val_loss'])\n",
    "plt.title('model loss')\n",
    "plt.ylabel('loss')\n",
    "plt.xlabel('epoch')\n",
    "plt.legend(['train', 'test'], loc='upper left')\n",
    "plt.show()"
   ]
  },
  {
   "cell_type": "code",
   "execution_count": 14,
   "metadata": {},
   "outputs": [
    {
     "name": "stdout",
     "output_type": "stream",
     "text": [
      "Saved model to disk\n"
     ]
    }
   ],
   "source": [
    "cnn4.save(\"Halloween_model_edition_80.h5\")\n",
    "print(\"Saved model to disk\")"
   ]
  },
  {
   "cell_type": "code",
   "execution_count": 15,
   "metadata": {},
   "outputs": [
    {
     "name": "stdout",
     "output_type": "stream",
     "text": [
      "1671/1671 [==============================] - 9s 5ms/step\n",
      "Results:\n",
      "ERROR LOSS:0.7226226868599492\n",
      "ACC: 80%\n"
     ]
    }
   ],
   "source": [
    "loss,acc = cnn4.evaluate(X_test, y_test, batch_size=batch_size)\n",
    "\n",
    "print(\"Results:\\nERROR LOSS:{}\\nACC: {}%\".format(loss, round(acc*100)))"
   ]
  },
  {
   "cell_type": "code",
   "execution_count": 27,
   "metadata": {},
   "outputs": [],
   "source": [
    "rounded_predictions = cnn4.predict_classes(X_test, batch_size=batch_size, verbose=0)"
   ]
  },
  {
   "cell_type": "code",
   "execution_count": 30,
   "metadata": {},
   "outputs": [],
   "source": [
    "def plot_confusion_matrix(cm, classes,\n",
    "                          normalize=False,\n",
    "                          title='Confusion matrix',\n",
    "                          cmap=plt.cm.Blues):\n",
    "    \"\"\"\n",
    "    This function prints and plots the confusion matrix.\n",
    "    Normalization can be applied by setting `normalize=True`.\n",
    "    \"\"\"\n",
    "    plt.imshow(cm, interpolation='nearest', cmap=cmap)\n",
    "    plt.title(title)\n",
    "    plt.colorbar()\n",
    "    tick_marks = np.arange(len(classes))\n",
    "    plt.xticks(tick_marks, classes, rotation=45)\n",
    "    plt.yticks(tick_marks, classes)\n",
    "\n",
    "    if normalize:\n",
    "        cm = cm.astype('float') / cm.sum(axis=1)[:, np.newaxis]\n",
    "        print(\"Normalized confusion matrix\")\n",
    "    else:\n",
    "        print('Confusion matrix, without normalization')\n",
    "\n",
    "    print(cm)\n",
    "\n",
    "    thresh = cm.max() / 2.\n",
    "    for i, j in itertools.product(range(cm.shape[0]), range(cm.shape[1])):\n",
    "        plt.text(j, i, cm[i, j],\n",
    "                 horizontalalignment=\"center\",\n",
    "                 color=\"white\" if cm[i, j] > thresh else \"black\")\n",
    "\n",
    "    plt.tight_layout()\n",
    "    plt.ylabel('True label')\n",
    "    plt.xlabel('Predicted label')"
   ]
  },
  {
   "cell_type": "code",
   "execution_count": null,
   "metadata": {},
   "outputs": [],
   "source": []
  },
  {
   "cell_type": "code",
   "execution_count": 28,
   "metadata": {},
   "outputs": [
    {
     "name": "stdout",
     "output_type": "stream",
     "text": [
      "\n",
      "ERROR: 0.1992818671454219\n",
      "Precision: 0.8882175226586103\n",
      "Recall: 0.6942148760330579\n",
      "F1: 0.779324055666004\n"
     ]
    }
   ],
   "source": [
    "from sklearn.metrics import confusion_matrix\n",
    "matrix =confusion_matrix(y_test, rounded_predictions)\n",
    "TN = matrix[0][0]\n",
    "FP = matrix[0][1]\n",
    "FN = matrix[1][0]\n",
    "TP = matrix[1][1]\n",
    "\n",
    "\n",
    "ERR =  (FP + FN) / (FP + FN + TP + TN)\n",
    "PRE = (TP)/(TP+FP)\n",
    "REC = (TP)/(TP+FN)\n",
    "F1 = 2*(PRE*REC)/(PRE+REC)\n",
    "\n",
    "print(\"\\nERROR: {}\\nPrecision: {}\\nRecall: {}\\nF1: {}\".format(ERR, PRE, REC, F1))"
   ]
  },
  {
   "cell_type": "code",
   "execution_count": 33,
   "metadata": {},
   "outputs": [
    {
     "name": "stdout",
     "output_type": "stream",
     "text": [
      "Confusion matrix, without normalization\n",
      "[[750  74]\n",
      " [259 588]]\n"
     ]
    },
    {
     "data": {
      "image/png": "[encoded data removed]",
      "text/plain": [
       "<Figure size 432x288 with 2 Axes>"
      ]
     },
     "metadata": {},
     "output_type": "display_data"
    }
   ],
   "source": [
    "import itertools \n",
    "labels = ['Basic', 'Not Basic']\n",
    "plot_confusion_matrix(matrix, labels, title='Confusion Matrix')"
   ]
  },
  {
   "cell_type": "code",
   "execution_count": 34,
   "metadata": {},
   "outputs": [],
   "source": []
  },
  {
   "cell_type": "code",
   "execution_count": null,
   "metadata": {},
   "outputs": [],
   "source": []
  },
  {
   "cell_type": "code",
   "execution_count": null,
   "metadata": {},
   "outputs": [],
   "source": []
  },
  {
   "cell_type": "code",
   "execution_count": null,
   "metadata": {},
   "outputs": [],
   "source": []
  },
  {
   "cell_type": "code",
   "execution_count": null,
   "metadata": {},
   "outputs": [],
   "source": []
  },
  {
   "cell_type": "code",
   "execution_count": null,
   "metadata": {},
   "outputs": [],
   "source": []
  },
  {
   "cell_type": "code",
   "execution_count": null,
   "metadata": {},
   "outputs": [],
   "source": []
  },
  {
   "cell_type": "code",
   "execution_count": null,
   "metadata": {},
   "outputs": [],
   "source": []
  },
  {
   "cell_type": "code",
   "execution_count": null,
   "metadata": {},
   "outputs": [],
   "source": []
  },
  {
   "cell_type": "code",
   "execution_count": null,
   "metadata": {},
   "outputs": [],
   "source": []
  },
  {
   "cell_type": "code",
   "execution_count": null,
   "metadata": {},
   "outputs": [],
   "source": []
  },
  {
   "cell_type": "code",
   "execution_count": null,
   "metadata": {},
   "outputs": [],
   "source": []
  }
 ],
 "metadata": {
  "kernelspec": {
   "display_name": "Python 3",
   "language": "python",
   "name": "python3"
  },
  "language_info": {
   "codemirror_mode": {
    "name": "ipython",
    "version": 3
   },
   "file_extension": ".py",
   "mimetype": "text/x-python",
   "name": "python",
   "nbconvert_exporter": "python",
   "pygments_lexer": "ipython3",
   "version": "3.6.9"
  }
 },
 "nbformat": 4,
 "nbformat_minor": 2
}
